{
 "cells": [
  {
   "cell_type": "markdown",
   "metadata": {
    "papermill": {
     "duration": 0.008804,
     "end_time": "2019-10-28T15:29:19.004664",
     "exception": false,
     "start_time": "2019-10-28T15:29:18.995860",
     "status": "completed"
    },
    "tags": []
   },
   "source": [
    "# 0.5 LDA\n",
    "\n",
    "This notebook will build a LDA model from the tokenized statements."
   ]
  },
  {
   "cell_type": "code",
   "execution_count": 30,
   "metadata": {
    "papermill": {
     "duration": 0.79049,
     "end_time": "2019-10-28T15:29:19.800617",
     "exception": false,
     "start_time": "2019-10-28T15:29:19.010127",
     "status": "completed"
    },
    "tags": []
   },
   "outputs": [],
   "source": [
    "import os\n",
    "\n",
    "import pandas as pd\n",
    "import engarde.decorators as ed\n",
    "from sklearn.feature_extraction.text import CountVectorizer\n",
    "from sklearn.decomposition import LatentDirichletAllocation\n",
    "from joblib import dump"
   ]
  },
  {
   "cell_type": "code",
   "execution_count": 31,
   "metadata": {},
   "outputs": [],
   "source": [
    "def get_proj_root():\n",
    "    '''\n",
    "    Because papermill and interactive Jupyter execute from different places.\n",
    "    (Also why this can't live in /src.)\n",
    "    '''\n",
    "    \n",
    "    execution_dir = os.path.split(os.getcwd())[1]\n",
    "\n",
    "    if execution_dir == \"notebooks\":\n",
    "        PROJ_ROOT = os.path.join(os.pardir)\n",
    "    else:\n",
    "        PROJ_ROOT = os.path.join(os.curdir)\n",
    "        \n",
    "    return PROJ_ROOT\n",
    "\n",
    "PROJ_ROOT = get_proj_root()"
   ]
  },
  {
   "cell_type": "code",
   "execution_count": 32,
   "metadata": {
    "papermill": {
     "duration": 0.011468,
     "end_time": "2019-10-28T15:29:19.838016",
     "exception": false,
     "start_time": "2019-10-28T15:29:19.826548",
     "status": "completed"
    },
    "tags": []
   },
   "outputs": [],
   "source": [
    "def load_data():\n",
    "    read_path = os.path.join(PROJ_ROOT + \"/data/processed/\" + \"tokenized.feather\")\n",
    "\n",
    "    df = pd.read_feather(read_path)\n",
    "\n",
    "    return df"
   ]
  },
  {
   "cell_type": "code",
   "execution_count": 33,
   "metadata": {
    "papermill": {
     "duration": 1.010232,
     "end_time": "2019-10-28T15:29:20.853430",
     "exception": false,
     "start_time": "2019-10-28T15:29:19.843198",
     "status": "completed"
    },
    "tags": []
   },
   "outputs": [],
   "source": [
    "tokenized = load_data()"
   ]
  },
  {
   "cell_type": "code",
   "execution_count": 5,
   "metadata": {
    "papermill": {
     "duration": 0.041273,
     "end_time": "2019-10-28T15:29:20.900395",
     "exception": false,
     "start_time": "2019-10-28T15:29:20.859122",
     "status": "completed"
    },
    "tags": []
   },
   "outputs": [
    {
     "name": "stdout",
     "output_type": "stream",
     "text": [
      "<class 'pandas.core.frame.DataFrame'>\n",
      "RangeIndex: 124089 entries, 0 to 124088\n",
      "Data columns (total 7 columns):\n",
      "site_name           124089 non-null object\n",
      "documentid          124089 non-null object\n",
      "customquestionid    124089 non-null int64\n",
      "questiontext        124089 non-null object\n",
      "answertext          124089 non-null object\n",
      "submissiondate      124089 non-null datetime64[ns]\n",
      "proc_answers        124089 non-null object\n",
      "dtypes: datetime64[ns](1), int64(1), object(5)\n",
      "memory usage: 6.6+ MB\n"
     ]
    }
   ],
   "source": [
    "tokenized.info()"
   ]
  },
  {
   "cell_type": "code",
   "execution_count": 6,
   "metadata": {
    "papermill": {
     "duration": 0.77445,
     "end_time": "2019-10-28T15:29:21.701906",
     "exception": false,
     "start_time": "2019-10-28T15:29:20.927456",
     "status": "completed"
    },
    "tags": []
   },
   "outputs": [],
   "source": [
    "tfidf_vectorizer = CountVectorizer(min_df=5, max_df=0.9)\n",
    "\n",
    "tfidf = tfidf_vectorizer.fit_transform(tokenized[\"proc_answers\"])"
   ]
  },
  {
   "cell_type": "code",
   "execution_count": 7,
   "metadata": {
    "papermill": {
     "duration": 0.024792,
     "end_time": "2019-10-28T15:29:21.732100",
     "exception": false,
     "start_time": "2019-10-28T15:29:21.707308",
     "status": "completed"
    },
    "tags": []
   },
   "outputs": [
    {
     "data": {
      "text/plain": [
       "['./models/tfidf.joblib']"
      ]
     },
     "execution_count": 7,
     "metadata": {},
     "output_type": "execute_result"
    }
   ],
   "source": [
    "write_path = os.path.join(PROJ_ROOT + \"/models/\" + \"tfidf\" + \".joblib\")\n",
    "dump(tfidf, write_path)"
   ]
  },
  {
   "cell_type": "code",
   "execution_count": 8,
   "metadata": {
    "papermill": {
     "duration": 22.511459,
     "end_time": "2019-10-28T15:29:44.248628",
     "exception": false,
     "start_time": "2019-10-28T15:29:21.737169",
     "status": "completed"
    },
    "tags": []
   },
   "outputs": [],
   "source": [
    "%%time\n",
    "\n",
    "N_TOPICS = 20\n",
    "\n",
    "lda = LatentDirichletAllocation(n_components=N_TOPICS, random_state=42)\n",
    "\n",
    "topic_model = lda.fit(tfidf)"
   ]
  },
  {
   "cell_type": "code",
   "execution_count": null,
   "metadata": {
    "papermill": {
     "duration": null,
     "end_time": null,
     "exception": null,
     "start_time": null,
     "status": "completed"
    },
    "tags": []
   },
   "outputs": [],
   "source": [
    "write_path = os.path.join(PROJ_ROOT + \"/models/\" + \"lda_\" + str(N_TOPICS) + \".joblib\")\n",
    "dump(topic_model, write_path)"
   ]
  },
  {
   "cell_type": "code",
   "execution_count": null,
   "metadata": {
    "papermill": {
     "duration": null,
     "end_time": null,
     "exception": null,
     "start_time": null,
     "status": "completed"
    },
    "tags": []
   },
   "outputs": [],
   "source": []
  }
 ],
 "metadata": {
  "kernelspec": {
   "display_name": "Python [conda env:data-availability]",
   "language": "python",
   "name": "conda-env-data-availability-py"
  },
  "language_info": {
   "codemirror_mode": {
    "name": "ipython",
    "version": 3
   },
   "file_extension": ".py",
   "mimetype": "text/x-python",
   "name": "python",
   "nbconvert_exporter": "python",
   "pygments_lexer": "ipython3",
   "version": "3.7.3"
  },
  "papermill": {
   "duration": 27.97556,
   "end_time": "2019-10-28T15:29:46.270151",
   "environment_variables": {},
   "exception": null,
   "input_path": "notebooks/0.5-DWFlanagan-LDA.ipynb",
   "output_path": "notebooks/0.5-DWFlanagan-LDA.ipynb",
   "parameters": {},
   "start_time": "2019-10-28T15:29:18.294591",
   "version": "1.2.1"
  }
 },
 "nbformat": 4,
 "nbformat_minor": 4
}
