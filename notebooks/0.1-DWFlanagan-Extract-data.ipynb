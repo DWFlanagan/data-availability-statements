{
 "cells": [
  {
   "cell_type": "markdown",
   "metadata": {},
   "source": [
    "# 0.1 Extract data\n",
    "\n",
    "This notebook extracts the data availability statements from the Wiley data warehouse."
   ]
  },
  {
   "cell_type": "code",
   "execution_count": 1,
   "metadata": {},
   "outputs": [],
   "source": [
    "import os\n",
    "\n",
    "import pandas as pd\n",
    "from sqlalchemy import create_engine, engine, MetaData, Table, select, or_\n",
    "from snowflake.sqlalchemy import URL\n",
    "from dotenv import load_dotenv, find_dotenv"
   ]
  },
  {
   "cell_type": "code",
   "execution_count": 3,
   "metadata": {},
   "outputs": [],
   "source": [
    "# Get database credentials\n",
    "load_dotenv(find_dotenv())\n",
    "\n",
    "SNOWFLAKE_USER = os.getenv(\"SNOWFLAKE_USER\")\n",
    "SNOWFLAKE_PASSWORD = os.getenv(\"SNOWFLAKE_PASSWORD\")\n",
    "SNOWFLAKE_ACCOUNT = os.getenv(\"SNOWFLAKE_ACCOUNT\")\n",
    "SNOWFLAKE_ROLE = os.getenv(\"SNOWFLAKE_ROLE\")\n",
    "SNOWFLAKE_DATABASE = os.getenv(\"SNOWFLAKE_DATABASE\")\n",
    "SNOWFLAKE_SCHEMA = os.getenv(\"SNOWFLAKE_SCHEMA\")\n",
    "SNOWFLAKE_WAREHOUSE = os.getenv(\"SNOWFLAKE_WAREHOUSE\")"
   ]
  },
  {
   "cell_type": "code",
   "execution_count": 12,
   "metadata": {},
   "outputs": [],
   "source": [
    "# Create database engine\n",
    "\n",
    "engine = create_engine(\n",
    "    URL(\n",
    "        user=SNOWFLAKE_USER,\n",
    "        password=SNOWFLAKE_PASSWORD,\n",
    "        account=SNOWFLAKE_ACCOUNT,\n",
    "        role=SNOWFLAKE_ROLE,\n",
    "        database=SNOWFLAKE_DATABASE,\n",
    "        schema=SNOWFLAKE_SCHEMA,\n",
    "        warehouse=SNOWFLAKE_WAREHOUSE,\n",
    "    )\n",
    ")"
   ]
  },
  {
   "cell_type": "code",
   "execution_count": null,
   "metadata": {},
   "outputs": [],
   "source": [
    "# Connect and reflect tables\n",
    "\n",
    "conn = engine.connect()\n",
    "metadata = MetaData()\n",
    "\n",
    "questions = Table(\n",
    "    \"S1_ARTICLES_SUBMISSION_CUSTOM_QUESTIONS\",\n",
    "    metadata,\n",
    "    autoload=True,\n",
    "    autoload_with=engine,\n",
    ")\n",
    "articles = Table(\"S1_ARTICLES\", metadata, autoload=True, autoload_with=engine)"
   ]
  },
  {
   "cell_type": "code",
   "execution_count": null,
   "metadata": {},
   "outputs": [],
   "source": [
    "%%time\n",
    "\n",
    "# Get data\n",
    "\n",
    "stmt = (\n",
    "    select(\n",
    "        [\n",
    "            questions.c.site_name,\n",
    "            questions.c.documentid,\n",
    "            questions.c.customquestionid,\n",
    "            questions.c.questiontext,\n",
    "            questions.c.submissioncustomanswer_answertext.label(\"answertext\"),\n",
    "            articles.c.submissiondate,\n",
    "        ]\n",
    "    )\n",
    "    .select_from(\n",
    "        questions.join(articles, questions.c.documentid == articles.c.documentid)\n",
    "    )\n",
    "    .where(\n",
    "        or_(\n",
    "            questions.c.questiontext.ilike(\"%data%\"),\n",
    "            questions.c.submissioncustomanswer_answertext.ilike(\"%data%\"),\n",
    "        )\n",
    "    )\n",
    ")\n",
    "\n",
    "df = pd.read_sql(stmt, conn)"
   ]
  },
  {
   "cell_type": "code",
   "execution_count": null,
   "metadata": {},
   "outputs": [],
   "source": [
    "df.info()"
   ]
  },
  {
   "cell_type": "code",
   "execution_count": null,
   "metadata": {},
   "outputs": [],
   "source": [
    "PROJ_ROOT = os.path.join(os.pardir)\n",
    "save_path = os.path.join(PROJ_ROOT + '/data/raw/' + 'das.feather')\n",
    "\n",
    "df.to_feather(save_path)"
   ]
  },
  {
   "cell_type": "code",
   "execution_count": null,
   "metadata": {},
   "outputs": [],
   "source": []
  }
 ],
 "metadata": {
  "kernelspec": {
   "display_name": "Python [conda env:data-availability]",
   "language": "python",
   "name": "conda-env-data-availability-py"
  },
  "language_info": {
   "codemirror_mode": {
    "name": "ipython",
    "version": 3
   },
   "file_extension": ".py",
   "mimetype": "text/x-python",
   "name": "python",
   "nbconvert_exporter": "python",
   "pygments_lexer": "ipython3",
   "version": "3.7.3"
  }
 },
 "nbformat": 4,
 "nbformat_minor": 4
}
